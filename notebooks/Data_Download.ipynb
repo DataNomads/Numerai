{
 "cells": [
  {
   "cell_type": "code",
   "execution_count": null,
   "metadata": {},
   "outputs": [],
   "source": [
    "import numerapi"
   ]
  },
  {
   "cell_type": "code",
   "execution_count": null,
   "metadata": {},
   "outputs": [],
   "source": [
    "api = numerapi.NumerAPI(verbosity='info')"
   ]
  },
  {
   "cell_type": "code",
   "execution_count": null,
   "metadata": {},
   "outputs": [],
   "source": [
    "api._login(\"rmundada@smu.edu\", \"Ankita23!@#\")"
   ]
  },
  {
   "cell_type": "code",
   "execution_count": null,
   "metadata": {},
   "outputs": [],
   "source": [
    "api.token"
   ]
  },
  {
   "cell_type": "code",
   "execution_count": null,
   "metadata": {},
   "outputs": [],
   "source": [
    "competitions = api.get_competitions()"
   ]
  },
  {
   "cell_type": "code",
   "execution_count": null,
   "metadata": {},
   "outputs": [],
   "source": [
    "api.download_current_dataset(dest_path = \"D:/DataNomads/\", unzip = True)"
   ]
  },
  {
   "cell_type": "code",
   "execution_count": null,
   "metadata": {},
   "outputs": [],
   "source": [
    "api.get_current_round()"
   ]
  },
  {
   "cell_type": "code",
   "execution_count": null,
   "metadata": {},
   "outputs": [],
   "source": [
    "api.raw_query(\"query {dataset(tournament:1)}\")"
   ]
  },
  {
   "cell_type": "code",
   "execution_count": null,
   "metadata": {},
   "outputs": [],
   "source": [
    "api.get_leaderboard()"
   ]
  },
  {
   "cell_type": "code",
   "execution_count": null,
   "metadata": {},
   "outputs": [],
   "source": [
    "help api._login"
   ]
  },
  {
   "cell_type": "code",
   "execution_count": null,
   "metadata": {},
   "outputs": [],
   "source": [
    "from dotenv import find_dotenv, load_dotenv"
   ]
  },
  {
   "cell_type": "code",
   "execution_count": null,
   "metadata": {},
   "outputs": [],
   "source": [
    "load_dotenv(find_dotenv())"
   ]
  },
  {
   "cell_type": "code",
   "execution_count": null,
   "metadata": {},
   "outputs": [],
   "source": [
    "import os\n",
    "os.getenv(\"public_id\")"
   ]
  },
  {
   "cell_type": "code",
   "execution_count": null,
   "metadata": {},
   "outputs": [],
   "source": [
    "import os\n",
    "import numerapi\n",
    "import luigi\n",
    "from dotenv import find_dotenv, load_dotenv\n",
    "\n",
    "\n",
    "class DownloadAndExtractData(luigi.Task):\n",
    "    \"\"\"\n",
    "    Download the most recent data and extract data to ./data/raw by default.\n",
    "\n",
    "    :param: output_path\n",
    "    :param: public_id (from .env)\n",
    "    :param: secret_key (from .env)\n",
    "\n",
    "    Download data using NumerAPI and extract following files::\n",
    "\n",
    "    Extends:\n",
    "        luigi.task\n",
    "    \"\"\"\n",
    "    task_namespace = 'download_data'\n",
    "    output_path = luigi.Parameter(default=\"./data/raw\")\n",
    "    public_id = luigi.Parameter()\n",
    "    secret_key = luigi.Parameter()\n",
    "\n",
    "    def output(self):\n",
    "        try:\n",
    "            self.api = numerapi.NumerAPI(self.public_id, self.secret_key)\n",
    "        except ValueError:\n",
    "            print(\"Incorrect public_id or secret_key\")\n",
    "\n",
    "        current_round = self.api.get_current_round()\n",
    "        dataset_name = \"numerai_dataset_{0}.zip\".format(current_round)\n",
    "        dataset_dir = \"numerai_dataset_{0}\".format(current_round)\n",
    "\n",
    "        # if false, assert throws an AssertionError\n",
    "        # download current dataset\n",
    "        assert self.api.download_current_dataset(dest_path=self.output_path,\n",
    "                                                 dest_filename=dataset_name,\n",
    "                                                 unzip=True,\n",
    "                                                 tournament=1)\n",
    "\n",
    "        dataset_path = os.path.join(self.output_path, dataset_dir)\n",
    "\n",
    "        test_data_path = os.path.join(dataset_path, 'numerai_training_data.csv')\n",
    "        tournament_data_path = os.path.join(dataset_path,\n",
    "                                            'numerai_tournament_data.csv')\n",
    "        example_data_path = os.path.join(dataset_path,\n",
    "                                         'example_predictions.csv')\n",
    "\n",
    "        out = {\n",
    "            'zipfile': luigi.LocalTarget(os.path.join(self.output_path, dataset_name)),\n",
    "            'training_data.csv': luigi.LocalTarget(test_data_path),\n",
    "            'tournament_data.csv': luigi.LocalTarget(tournament_data_path),\n",
    "            'example_predictions.csv': luigi.LocalTarget(example_data_path)\n",
    "        }\n",
    "#         print(out)\n",
    "        return out\n",
    "\n",
    "    def run(self):\n",
    "        out = self.output\n",
    "\n",
    "\n",
    "if __name__ == '__main__':\n",
    "    load_dotenv(find_dotenv())\n",
    "    public_id = luigi.Parameter(os.getenv(\"public_id\"))\n",
    "    secret_key = luigi.Parameter(os.getenv(\"secret_key\"))\n",
    "    luigi.build([DownloadAndExtractData(output_path=\"D:\\DataNomads\", public_id=public_id, secret_key=secret_key)])\n"
   ]
  },
  {
   "cell_type": "code",
   "execution_count": null,
   "metadata": {},
   "outputs": [],
   "source": []
  }
 ],
 "metadata": {
  "kernelspec": {
   "display_name": "Python 3",
   "language": "python",
   "name": "python3"
  },
  "language_info": {
   "codemirror_mode": {
    "name": "ipython",
    "version": 3
   },
   "file_extension": ".py",
   "mimetype": "text/x-python",
   "name": "python",
   "nbconvert_exporter": "python",
   "pygments_lexer": "ipython3",
   "version": "3.6.5"
  }
 },
 "nbformat": 4,
 "nbformat_minor": 2
}
